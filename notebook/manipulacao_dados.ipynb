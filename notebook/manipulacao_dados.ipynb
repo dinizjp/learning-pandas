{
 "cells": [
  {
   "cell_type": "code",
   "execution_count": 51,
   "id": "23c418ed-c117-4c53-be2e-6aa88c58a84c",
   "metadata": {},
   "outputs": [
    {
     "data": {
      "text/plain": [
       "'/Users/dinizjp/Programação /Repos_DS/Ciclo FTC/Codigos/Cury_company_1.1'"
      ]
     },
     "execution_count": 51,
     "metadata": {},
     "output_type": "execute_result"
    }
   ],
   "source": [
    "import pandas as pd\n",
    "import os \n",
    "\n",
    "os.getcwd()"
   ]
  },
  {
   "cell_type": "code",
   "execution_count": 52,
   "id": "289eda17-7495-4e04-ba96-8b11a8717dcb",
   "metadata": {},
   "outputs": [],
   "source": [
    "df = pd.read_csv('train_tratado.csv')"
   ]
  },
  {
   "cell_type": "code",
   "execution_count": 94,
   "id": "8e8c3164-58b7-4bd0-bdb6-2edb70787216",
   "metadata": {},
   "outputs": [
    {
     "data": {
      "text/html": [
       "<div>\n",
       "<style scoped>\n",
       "    .dataframe tbody tr th:only-of-type {\n",
       "        vertical-align: middle;\n",
       "    }\n",
       "\n",
       "    .dataframe tbody tr th {\n",
       "        vertical-align: top;\n",
       "    }\n",
       "\n",
       "    .dataframe thead th {\n",
       "        text-align: right;\n",
       "    }\n",
       "</style>\n",
       "<table border=\"1\" class=\"dataframe\">\n",
       "  <thead>\n",
       "    <tr style=\"text-align: right;\">\n",
       "      <th></th>\n",
       "      <th>Unnamed: 0</th>\n",
       "      <th>ID</th>\n",
       "      <th>Delivery_person_ID</th>\n",
       "      <th>Delivery_person_Age</th>\n",
       "      <th>Delivery_person_Ratings</th>\n",
       "      <th>Restaurant_latitude</th>\n",
       "      <th>Restaurant_longitude</th>\n",
       "      <th>Delivery_location_latitude</th>\n",
       "      <th>Delivery_location_longitude</th>\n",
       "      <th>Order_Date</th>\n",
       "      <th>...</th>\n",
       "      <th>Time_Order_picked</th>\n",
       "      <th>Weatherconditions</th>\n",
       "      <th>Road_traffic_density</th>\n",
       "      <th>Vehicle_condition</th>\n",
       "      <th>Type_of_order</th>\n",
       "      <th>Type_of_vehicle</th>\n",
       "      <th>multiple_deliveries</th>\n",
       "      <th>Festival</th>\n",
       "      <th>City</th>\n",
       "      <th>Time_taken(min)</th>\n",
       "    </tr>\n",
       "  </thead>\n",
       "  <tbody>\n",
       "    <tr>\n",
       "      <th>0</th>\n",
       "      <td>0</td>\n",
       "      <td>0x4607</td>\n",
       "      <td>INDORES13DEL02</td>\n",
       "      <td>37</td>\n",
       "      <td>4.9</td>\n",
       "      <td>22.745049</td>\n",
       "      <td>75.892471</td>\n",
       "      <td>22.765049</td>\n",
       "      <td>75.912471</td>\n",
       "      <td>2022-03-19</td>\n",
       "      <td>...</td>\n",
       "      <td>11:45:00</td>\n",
       "      <td>conditions Sunny</td>\n",
       "      <td>High</td>\n",
       "      <td>2</td>\n",
       "      <td>Snack</td>\n",
       "      <td>motorcycle</td>\n",
       "      <td>0</td>\n",
       "      <td>No</td>\n",
       "      <td>Urban</td>\n",
       "      <td>24</td>\n",
       "    </tr>\n",
       "    <tr>\n",
       "      <th>1</th>\n",
       "      <td>1</td>\n",
       "      <td>0xb379</td>\n",
       "      <td>BANGRES18DEL02</td>\n",
       "      <td>34</td>\n",
       "      <td>4.5</td>\n",
       "      <td>12.913041</td>\n",
       "      <td>77.683237</td>\n",
       "      <td>13.043041</td>\n",
       "      <td>77.813237</td>\n",
       "      <td>2022-03-25</td>\n",
       "      <td>...</td>\n",
       "      <td>19:50:00</td>\n",
       "      <td>conditions Stormy</td>\n",
       "      <td>Jam</td>\n",
       "      <td>2</td>\n",
       "      <td>Snack</td>\n",
       "      <td>scooter</td>\n",
       "      <td>1</td>\n",
       "      <td>No</td>\n",
       "      <td>Metropolitian</td>\n",
       "      <td>33</td>\n",
       "    </tr>\n",
       "    <tr>\n",
       "      <th>2</th>\n",
       "      <td>2</td>\n",
       "      <td>0x5d6d</td>\n",
       "      <td>BANGRES19DEL01</td>\n",
       "      <td>23</td>\n",
       "      <td>4.4</td>\n",
       "      <td>12.914264</td>\n",
       "      <td>77.678400</td>\n",
       "      <td>12.924264</td>\n",
       "      <td>77.688400</td>\n",
       "      <td>2022-03-19</td>\n",
       "      <td>...</td>\n",
       "      <td>08:45:00</td>\n",
       "      <td>conditions Sandstorms</td>\n",
       "      <td>Low</td>\n",
       "      <td>0</td>\n",
       "      <td>Drinks</td>\n",
       "      <td>motorcycle</td>\n",
       "      <td>1</td>\n",
       "      <td>No</td>\n",
       "      <td>Urban</td>\n",
       "      <td>26</td>\n",
       "    </tr>\n",
       "    <tr>\n",
       "      <th>3</th>\n",
       "      <td>3</td>\n",
       "      <td>0x7a6a</td>\n",
       "      <td>COIMBRES13DEL02</td>\n",
       "      <td>38</td>\n",
       "      <td>4.7</td>\n",
       "      <td>11.003669</td>\n",
       "      <td>76.976494</td>\n",
       "      <td>11.053669</td>\n",
       "      <td>77.026494</td>\n",
       "      <td>2022-04-05</td>\n",
       "      <td>...</td>\n",
       "      <td>18:10:00</td>\n",
       "      <td>conditions Sunny</td>\n",
       "      <td>Medium</td>\n",
       "      <td>0</td>\n",
       "      <td>Buffet</td>\n",
       "      <td>motorcycle</td>\n",
       "      <td>1</td>\n",
       "      <td>No</td>\n",
       "      <td>Metropolitian</td>\n",
       "      <td>21</td>\n",
       "    </tr>\n",
       "    <tr>\n",
       "      <th>4</th>\n",
       "      <td>4</td>\n",
       "      <td>0x70a2</td>\n",
       "      <td>CHENRES12DEL01</td>\n",
       "      <td>32</td>\n",
       "      <td>4.6</td>\n",
       "      <td>12.972793</td>\n",
       "      <td>80.249982</td>\n",
       "      <td>13.012793</td>\n",
       "      <td>80.289982</td>\n",
       "      <td>2022-03-26</td>\n",
       "      <td>...</td>\n",
       "      <td>13:45:00</td>\n",
       "      <td>conditions Cloudy</td>\n",
       "      <td>High</td>\n",
       "      <td>1</td>\n",
       "      <td>Snack</td>\n",
       "      <td>scooter</td>\n",
       "      <td>1</td>\n",
       "      <td>No</td>\n",
       "      <td>Metropolitian</td>\n",
       "      <td>30</td>\n",
       "    </tr>\n",
       "    <tr>\n",
       "      <th>...</th>\n",
       "      <td>...</td>\n",
       "      <td>...</td>\n",
       "      <td>...</td>\n",
       "      <td>...</td>\n",
       "      <td>...</td>\n",
       "      <td>...</td>\n",
       "      <td>...</td>\n",
       "      <td>...</td>\n",
       "      <td>...</td>\n",
       "      <td>...</td>\n",
       "      <td>...</td>\n",
       "      <td>...</td>\n",
       "      <td>...</td>\n",
       "      <td>...</td>\n",
       "      <td>...</td>\n",
       "      <td>...</td>\n",
       "      <td>...</td>\n",
       "      <td>...</td>\n",
       "      <td>...</td>\n",
       "      <td>...</td>\n",
       "      <td>...</td>\n",
       "    </tr>\n",
       "    <tr>\n",
       "      <th>42507</th>\n",
       "      <td>42507</td>\n",
       "      <td>0x7c09</td>\n",
       "      <td>JAPRES04DEL01</td>\n",
       "      <td>30</td>\n",
       "      <td>4.8</td>\n",
       "      <td>26.902328</td>\n",
       "      <td>75.794257</td>\n",
       "      <td>26.912328</td>\n",
       "      <td>75.804257</td>\n",
       "      <td>2022-03-24</td>\n",
       "      <td>...</td>\n",
       "      <td>11:45:00</td>\n",
       "      <td>conditions Windy</td>\n",
       "      <td>High</td>\n",
       "      <td>1</td>\n",
       "      <td>Meal</td>\n",
       "      <td>motorcycle</td>\n",
       "      <td>0</td>\n",
       "      <td>No</td>\n",
       "      <td>Metropolitian</td>\n",
       "      <td>32</td>\n",
       "    </tr>\n",
       "    <tr>\n",
       "      <th>42508</th>\n",
       "      <td>42508</td>\n",
       "      <td>0xd641</td>\n",
       "      <td>AGRRES16DEL01</td>\n",
       "      <td>21</td>\n",
       "      <td>4.6</td>\n",
       "      <td>0.000000</td>\n",
       "      <td>0.000000</td>\n",
       "      <td>0.070000</td>\n",
       "      <td>0.070000</td>\n",
       "      <td>2022-02-16</td>\n",
       "      <td>...</td>\n",
       "      <td>20:10:00</td>\n",
       "      <td>conditions Windy</td>\n",
       "      <td>Jam</td>\n",
       "      <td>0</td>\n",
       "      <td>Buffet</td>\n",
       "      <td>motorcycle</td>\n",
       "      <td>1</td>\n",
       "      <td>No</td>\n",
       "      <td>Metropolitian</td>\n",
       "      <td>36</td>\n",
       "    </tr>\n",
       "    <tr>\n",
       "      <th>42509</th>\n",
       "      <td>42509</td>\n",
       "      <td>0x4f8d</td>\n",
       "      <td>CHENRES08DEL03</td>\n",
       "      <td>30</td>\n",
       "      <td>4.9</td>\n",
       "      <td>13.022394</td>\n",
       "      <td>80.242439</td>\n",
       "      <td>13.052394</td>\n",
       "      <td>80.272439</td>\n",
       "      <td>2022-03-11</td>\n",
       "      <td>...</td>\n",
       "      <td>00:05:00</td>\n",
       "      <td>conditions Cloudy</td>\n",
       "      <td>Low</td>\n",
       "      <td>1</td>\n",
       "      <td>Drinks</td>\n",
       "      <td>scooter</td>\n",
       "      <td>0</td>\n",
       "      <td>No</td>\n",
       "      <td>Metropolitian</td>\n",
       "      <td>16</td>\n",
       "    </tr>\n",
       "    <tr>\n",
       "      <th>42510</th>\n",
       "      <td>42510</td>\n",
       "      <td>0x5eee</td>\n",
       "      <td>COIMBRES11DEL01</td>\n",
       "      <td>20</td>\n",
       "      <td>4.7</td>\n",
       "      <td>11.001753</td>\n",
       "      <td>76.986241</td>\n",
       "      <td>11.041753</td>\n",
       "      <td>77.026241</td>\n",
       "      <td>2022-03-07</td>\n",
       "      <td>...</td>\n",
       "      <td>13:40:00</td>\n",
       "      <td>conditions Cloudy</td>\n",
       "      <td>High</td>\n",
       "      <td>0</td>\n",
       "      <td>Snack</td>\n",
       "      <td>motorcycle</td>\n",
       "      <td>1</td>\n",
       "      <td>No</td>\n",
       "      <td>Metropolitian</td>\n",
       "      <td>26</td>\n",
       "    </tr>\n",
       "    <tr>\n",
       "      <th>42511</th>\n",
       "      <td>42511</td>\n",
       "      <td>0x5fb2</td>\n",
       "      <td>RANCHIRES09DEL02</td>\n",
       "      <td>23</td>\n",
       "      <td>4.9</td>\n",
       "      <td>23.351058</td>\n",
       "      <td>85.325731</td>\n",
       "      <td>23.431058</td>\n",
       "      <td>85.405731</td>\n",
       "      <td>2022-03-02</td>\n",
       "      <td>...</td>\n",
       "      <td>17:15:00</td>\n",
       "      <td>conditions Fog</td>\n",
       "      <td>Medium</td>\n",
       "      <td>2</td>\n",
       "      <td>Snack</td>\n",
       "      <td>scooter</td>\n",
       "      <td>1</td>\n",
       "      <td>No</td>\n",
       "      <td>Metropolitian</td>\n",
       "      <td>36</td>\n",
       "    </tr>\n",
       "  </tbody>\n",
       "</table>\n",
       "<p>42512 rows × 21 columns</p>\n",
       "</div>"
      ],
      "text/plain": [
       "       Unnamed: 0      ID Delivery_person_ID  Delivery_person_Age  \\\n",
       "0               0  0x4607    INDORES13DEL02                    37   \n",
       "1               1  0xb379    BANGRES18DEL02                    34   \n",
       "2               2  0x5d6d    BANGRES19DEL01                    23   \n",
       "3               3  0x7a6a   COIMBRES13DEL02                    38   \n",
       "4               4  0x70a2    CHENRES12DEL01                    32   \n",
       "...           ...     ...                ...                  ...   \n",
       "42507       42507  0x7c09     JAPRES04DEL01                    30   \n",
       "42508       42508  0xd641     AGRRES16DEL01                    21   \n",
       "42509       42509  0x4f8d    CHENRES08DEL03                    30   \n",
       "42510       42510  0x5eee   COIMBRES11DEL01                    20   \n",
       "42511       42511  0x5fb2  RANCHIRES09DEL02                    23   \n",
       "\n",
       "       Delivery_person_Ratings  Restaurant_latitude  Restaurant_longitude  \\\n",
       "0                          4.9            22.745049             75.892471   \n",
       "1                          4.5            12.913041             77.683237   \n",
       "2                          4.4            12.914264             77.678400   \n",
       "3                          4.7            11.003669             76.976494   \n",
       "4                          4.6            12.972793             80.249982   \n",
       "...                        ...                  ...                   ...   \n",
       "42507                      4.8            26.902328             75.794257   \n",
       "42508                      4.6             0.000000              0.000000   \n",
       "42509                      4.9            13.022394             80.242439   \n",
       "42510                      4.7            11.001753             76.986241   \n",
       "42511                      4.9            23.351058             85.325731   \n",
       "\n",
       "       Delivery_location_latitude  Delivery_location_longitude  Order_Date  \\\n",
       "0                       22.765049                    75.912471  2022-03-19   \n",
       "1                       13.043041                    77.813237  2022-03-25   \n",
       "2                       12.924264                    77.688400  2022-03-19   \n",
       "3                       11.053669                    77.026494  2022-04-05   \n",
       "4                       13.012793                    80.289982  2022-03-26   \n",
       "...                           ...                          ...         ...   \n",
       "42507                   26.912328                    75.804257  2022-03-24   \n",
       "42508                    0.070000                     0.070000  2022-02-16   \n",
       "42509                   13.052394                    80.272439  2022-03-11   \n",
       "42510                   11.041753                    77.026241  2022-03-07   \n",
       "42511                   23.431058                    85.405731  2022-03-02   \n",
       "\n",
       "       ... Time_Order_picked      Weatherconditions Road_traffic_density  \\\n",
       "0      ...          11:45:00       conditions Sunny                 High   \n",
       "1      ...          19:50:00      conditions Stormy                  Jam   \n",
       "2      ...          08:45:00  conditions Sandstorms                  Low   \n",
       "3      ...          18:10:00       conditions Sunny               Medium   \n",
       "4      ...          13:45:00      conditions Cloudy                 High   \n",
       "...    ...               ...                    ...                  ...   \n",
       "42507  ...          11:45:00       conditions Windy                 High   \n",
       "42508  ...          20:10:00       conditions Windy                  Jam   \n",
       "42509  ...          00:05:00      conditions Cloudy                  Low   \n",
       "42510  ...          13:40:00      conditions Cloudy                 High   \n",
       "42511  ...          17:15:00         conditions Fog               Medium   \n",
       "\n",
       "      Vehicle_condition  Type_of_order Type_of_vehicle multiple_deliveries  \\\n",
       "0                     2          Snack      motorcycle                   0   \n",
       "1                     2          Snack         scooter                   1   \n",
       "2                     0         Drinks      motorcycle                   1   \n",
       "3                     0         Buffet      motorcycle                   1   \n",
       "4                     1          Snack         scooter                   1   \n",
       "...                 ...            ...             ...                 ...   \n",
       "42507                 1           Meal      motorcycle                   0   \n",
       "42508                 0         Buffet      motorcycle                   1   \n",
       "42509                 1         Drinks         scooter                   0   \n",
       "42510                 0          Snack      motorcycle                   1   \n",
       "42511                 2          Snack         scooter                   1   \n",
       "\n",
       "      Festival           City Time_taken(min)  \n",
       "0          No           Urban              24  \n",
       "1          No   Metropolitian              33  \n",
       "2          No           Urban              26  \n",
       "3          No   Metropolitian              21  \n",
       "4          No   Metropolitian              30  \n",
       "...        ...            ...             ...  \n",
       "42507      No   Metropolitian              32  \n",
       "42508      No   Metropolitian              36  \n",
       "42509      No   Metropolitian              16  \n",
       "42510      No   Metropolitian              26  \n",
       "42511      No   Metropolitian              36  \n",
       "\n",
       "[42512 rows x 21 columns]"
      ]
     },
     "execution_count": 94,
     "metadata": {},
     "output_type": "execute_result"
    }
   ],
   "source": [
    "df"
   ]
  },
  {
   "cell_type": "markdown",
   "id": "0878a978-d073-43b4-89de-b9cd66dff2f0",
   "metadata": {
    "tags": []
   },
   "source": [
    "# Manipulação dados parte 1"
   ]
  },
  {
   "cell_type": "markdown",
   "id": "a4b3126d-4f5f-484c-b730-d29f77be0d81",
   "metadata": {
    "tags": []
   },
   "source": [
    "## Qual o número total de entregadores únicos cadastrados na base de dados? "
   ]
  },
  {
   "cell_type": "code",
   "execution_count": 54,
   "id": "864eec57-1566-4708-8019-cf32a4d573d1",
   "metadata": {},
   "outputs": [
    {
     "name": "stdout",
     "output_type": "stream",
     "text": [
      "O número total de entregadores únicos é de 1320\n"
     ]
    }
   ],
   "source": [
    "unicos = len(df['Delivery_person_ID'].unique())\n",
    "print(f'O número total de entregadores únicos é de {unicos}')"
   ]
  },
  {
   "cell_type": "markdown",
   "id": "aa4c28a7-5792-458a-b855-b414f57e0112",
   "metadata": {
    "tags": []
   },
   "source": [
    "## Qual a idade do entregador mais velho? E do mais novo? "
   ]
  },
  {
   "cell_type": "code",
   "execution_count": 55,
   "id": "731f50ea-adc5-49d5-978b-461e5816d049",
   "metadata": {},
   "outputs": [
    {
     "name": "stdout",
     "output_type": "stream",
     "text": [
      "O entregador mais velho tem 39 anos e o mais novo tem 20\n"
     ]
    }
   ],
   "source": [
    "mais_velho = df['Delivery_person_Age'].max()\n",
    "mais_novo = df['Delivery_person_Age'].min()\n",
    "\n",
    "print(f'O entregador mais velho tem {mais_velho} anos e o mais novo tem {mais_novo}')"
   ]
  },
  {
   "cell_type": "markdown",
   "id": "f9cedc1a-3c6a-4825-83f0-00805dedd157",
   "metadata": {
    "tags": []
   },
   "source": [
    "## Quais são os IDs dos entregadores com a maior idade?"
   ]
  },
  {
   "cell_type": "code",
   "execution_count": 89,
   "id": "f25366f4-519f-45f4-92c9-051b013748f9",
   "metadata": {},
   "outputs": [
    {
     "data": {
      "text/html": [
       "<div>\n",
       "<style scoped>\n",
       "    .dataframe tbody tr th:only-of-type {\n",
       "        vertical-align: middle;\n",
       "    }\n",
       "\n",
       "    .dataframe tbody tr th {\n",
       "        vertical-align: top;\n",
       "    }\n",
       "\n",
       "    .dataframe thead th {\n",
       "        text-align: right;\n",
       "    }\n",
       "</style>\n",
       "<table border=\"1\" class=\"dataframe\">\n",
       "  <thead>\n",
       "    <tr style=\"text-align: right;\">\n",
       "      <th></th>\n",
       "      <th>ID</th>\n",
       "    </tr>\n",
       "  </thead>\n",
       "  <tbody>\n",
       "    <tr>\n",
       "      <th>0</th>\n",
       "      <td>AGRRES12DEL03</td>\n",
       "    </tr>\n",
       "    <tr>\n",
       "      <th>1</th>\n",
       "      <td>VADRES02DEL02</td>\n",
       "    </tr>\n",
       "    <tr>\n",
       "      <th>2</th>\n",
       "      <td>DEHRES19DEL02</td>\n",
       "    </tr>\n",
       "    <tr>\n",
       "      <th>3</th>\n",
       "      <td>CHENRES12DEL03</td>\n",
       "    </tr>\n",
       "    <tr>\n",
       "      <th>4</th>\n",
       "      <td>BANGRES010DEL03</td>\n",
       "    </tr>\n",
       "  </tbody>\n",
       "</table>\n",
       "</div>"
      ],
      "text/plain": [
       "                 ID\n",
       "0    AGRRES12DEL03 \n",
       "1    VADRES02DEL02 \n",
       "2    DEHRES19DEL02 \n",
       "3   CHENRES12DEL03 \n",
       "4  BANGRES010DEL03 "
      ]
     },
     "execution_count": 89,
     "metadata": {},
     "output_type": "execute_result"
    }
   ],
   "source": [
    "id_mais_velho = pd.DataFrame(df.loc[df['Delivery_person_Age'] == 39, 'Delivery_person_ID'].unique(), columns=['ID'])\n",
    "\n",
    "id_mais_velho.reset_index(drop=True)\n",
    "\n",
    "id_mais_velho.head()\n"
   ]
  },
  {
   "cell_type": "markdown",
   "id": "c12f7d6e-7461-4c3a-9ed5-12db356f38f7",
   "metadata": {
    "tags": []
   },
   "source": [
    "## E os IDs dos entregaores com a menor idade? "
   ]
  },
  {
   "cell_type": "code",
   "execution_count": 90,
   "id": "77fe3804-11ed-4910-bc02-2b95774a8c98",
   "metadata": {},
   "outputs": [
    {
     "data": {
      "text/html": [
       "<div>\n",
       "<style scoped>\n",
       "    .dataframe tbody tr th:only-of-type {\n",
       "        vertical-align: middle;\n",
       "    }\n",
       "\n",
       "    .dataframe tbody tr th {\n",
       "        vertical-align: top;\n",
       "    }\n",
       "\n",
       "    .dataframe thead th {\n",
       "        text-align: right;\n",
       "    }\n",
       "</style>\n",
       "<table border=\"1\" class=\"dataframe\">\n",
       "  <thead>\n",
       "    <tr style=\"text-align: right;\">\n",
       "      <th></th>\n",
       "      <th>ID</th>\n",
       "    </tr>\n",
       "  </thead>\n",
       "  <tbody>\n",
       "    <tr>\n",
       "      <th>0</th>\n",
       "      <td>PUNERES18DEL01</td>\n",
       "    </tr>\n",
       "    <tr>\n",
       "      <th>1</th>\n",
       "      <td>SURRES08DEL01</td>\n",
       "    </tr>\n",
       "    <tr>\n",
       "      <th>2</th>\n",
       "      <td>BHPRES12DEL02</td>\n",
       "    </tr>\n",
       "    <tr>\n",
       "      <th>3</th>\n",
       "      <td>RANCHIRES01DEL03</td>\n",
       "    </tr>\n",
       "    <tr>\n",
       "      <th>4</th>\n",
       "      <td>BANGRES11DEL03</td>\n",
       "    </tr>\n",
       "  </tbody>\n",
       "</table>\n",
       "</div>"
      ],
      "text/plain": [
       "                  ID\n",
       "0    PUNERES18DEL01 \n",
       "1     SURRES08DEL01 \n",
       "2     BHPRES12DEL02 \n",
       "3  RANCHIRES01DEL03 \n",
       "4    BANGRES11DEL03 "
      ]
     },
     "execution_count": 90,
     "metadata": {},
     "output_type": "execute_result"
    }
   ],
   "source": [
    "id_mais_novo = pd.DataFrame(df.loc[df['Delivery_person_Age'] == 20, 'Delivery_person_ID'].unique(), columns=['ID'])\n",
    "\n",
    "id_mais_novo.reset_index(drop=True)\n",
    "\n",
    "id_mais_novo.head()\n"
   ]
  },
  {
   "cell_type": "markdown",
   "id": "8adcc878-0f43-4cd0-ab7d-ae02bcdf7043",
   "metadata": {},
   "source": [
    "## Quais os nomes das condições climáticas? "
   ]
  },
  {
   "cell_type": "code",
   "execution_count": 88,
   "id": "4a8ff101-9560-45dd-8fd8-be1a549d9aba",
   "metadata": {},
   "outputs": [
    {
     "data": {
      "text/html": [
       "<div>\n",
       "<style scoped>\n",
       "    .dataframe tbody tr th:only-of-type {\n",
       "        vertical-align: middle;\n",
       "    }\n",
       "\n",
       "    .dataframe tbody tr th {\n",
       "        vertical-align: top;\n",
       "    }\n",
       "\n",
       "    .dataframe thead th {\n",
       "        text-align: right;\n",
       "    }\n",
       "</style>\n",
       "<table border=\"1\" class=\"dataframe\">\n",
       "  <thead>\n",
       "    <tr style=\"text-align: right;\">\n",
       "      <th></th>\n",
       "      <th>Condições</th>\n",
       "    </tr>\n",
       "  </thead>\n",
       "  <tbody>\n",
       "    <tr>\n",
       "      <th>0</th>\n",
       "      <td>conditions Sunny</td>\n",
       "    </tr>\n",
       "    <tr>\n",
       "      <th>1</th>\n",
       "      <td>conditions Stormy</td>\n",
       "    </tr>\n",
       "    <tr>\n",
       "      <th>2</th>\n",
       "      <td>conditions Sandstorms</td>\n",
       "    </tr>\n",
       "    <tr>\n",
       "      <th>3</th>\n",
       "      <td>conditions Cloudy</td>\n",
       "    </tr>\n",
       "    <tr>\n",
       "      <th>4</th>\n",
       "      <td>conditions Fog</td>\n",
       "    </tr>\n",
       "    <tr>\n",
       "      <th>5</th>\n",
       "      <td>conditions Windy</td>\n",
       "    </tr>\n",
       "  </tbody>\n",
       "</table>\n",
       "</div>"
      ],
      "text/plain": [
       "               Condições\n",
       "0       conditions Sunny\n",
       "1      conditions Stormy\n",
       "2  conditions Sandstorms\n",
       "3      conditions Cloudy\n",
       "4         conditions Fog\n",
       "5       conditions Windy"
      ]
     },
     "execution_count": 88,
     "metadata": {},
     "output_type": "execute_result"
    }
   ],
   "source": [
    "condicoes = pd.DataFrame(df['Weatherconditions'].unique(), columns=['Condições'])\n",
    "\n",
    "condicoes"
   ]
  },
  {
   "cell_type": "markdown",
   "id": "72f4a29a-1b19-4dc8-b722-8a2c4b7c58c5",
   "metadata": {},
   "source": [
    "## Quais eram as condicões climáticas da data mais recente de entrega? "
   ]
  },
  {
   "cell_type": "code",
   "execution_count": 114,
   "id": "3902116b-f75a-415b-93e0-ddec841b39d2",
   "metadata": {},
   "outputs": [
    {
     "data": {
      "text/plain": [
       "186    conditions Sunny\n",
       "Name: Weatherconditions, dtype: object"
      ]
     },
     "execution_count": 114,
     "metadata": {},
     "output_type": "execute_result"
    }
   ],
   "source": [
    "df.loc[df['Order_Date'] == df['Order_Date'].max(), 'Weatherconditions'].head(1)"
   ]
  },
  {
   "cell_type": "markdown",
   "id": "7932c986-63ac-4c3d-8182-f78bd5c6f6b8",
   "metadata": {},
   "source": [
    "## Quantos tipos de densidade de trânsito existem na base de dados? Quais os nomes delas?"
   ]
  },
  {
   "cell_type": "code",
   "execution_count": 131,
   "id": "1a1d1341-8596-4477-9197-8f96e2c0cfbc",
   "metadata": {},
   "outputs": [
    {
     "name": "stdout",
     "output_type": "stream",
     "text": [
      "A quantidade existente é de 4\n",
      "Os tipos de densidade são: ['High', 'Jam', 'Low', 'Medium']\n"
     ]
    }
   ],
   "source": [
    "print(f'A quantidade existente é de {len(df[\"Road_traffic_density\"].unique())}')\n",
    "print(f'Os tipos de densidade são: {list(df[\"Road_traffic_density\"].unique())}')"
   ]
  },
  {
   "cell_type": "markdown",
   "id": "705e143e-2274-43f1-881d-f0c2e1898f25",
   "metadata": {},
   "source": [
    "## Quantas entregas foram feitas em cada condição climática?"
   ]
  },
  {
   "cell_type": "code",
   "execution_count": 132,
   "id": "8808b3e8-e1fb-4322-bd66-30a0eaaabaaa",
   "metadata": {},
   "outputs": [
    {
     "data": {
      "text/html": [
       "<div>\n",
       "<style scoped>\n",
       "    .dataframe tbody tr th:only-of-type {\n",
       "        vertical-align: middle;\n",
       "    }\n",
       "\n",
       "    .dataframe tbody tr th {\n",
       "        vertical-align: top;\n",
       "    }\n",
       "\n",
       "    .dataframe thead th {\n",
       "        text-align: right;\n",
       "    }\n",
       "</style>\n",
       "<table border=\"1\" class=\"dataframe\">\n",
       "  <thead>\n",
       "    <tr style=\"text-align: right;\">\n",
       "      <th></th>\n",
       "      <th>Weatherconditions</th>\n",
       "      <th>ID</th>\n",
       "    </tr>\n",
       "  </thead>\n",
       "  <tbody>\n",
       "    <tr>\n",
       "      <th>0</th>\n",
       "      <td>conditions Cloudy</td>\n",
       "      <td>7125</td>\n",
       "    </tr>\n",
       "    <tr>\n",
       "      <th>1</th>\n",
       "      <td>conditions Fog</td>\n",
       "      <td>7279</td>\n",
       "    </tr>\n",
       "    <tr>\n",
       "      <th>2</th>\n",
       "      <td>conditions Sandstorms</td>\n",
       "      <td>7037</td>\n",
       "    </tr>\n",
       "    <tr>\n",
       "      <th>3</th>\n",
       "      <td>conditions Stormy</td>\n",
       "      <td>7183</td>\n",
       "    </tr>\n",
       "    <tr>\n",
       "      <th>4</th>\n",
       "      <td>conditions Sunny</td>\n",
       "      <td>6863</td>\n",
       "    </tr>\n",
       "    <tr>\n",
       "      <th>5</th>\n",
       "      <td>conditions Windy</td>\n",
       "      <td>7025</td>\n",
       "    </tr>\n",
       "  </tbody>\n",
       "</table>\n",
       "</div>"
      ],
      "text/plain": [
       "       Weatherconditions    ID\n",
       "0      conditions Cloudy  7125\n",
       "1         conditions Fog  7279\n",
       "2  conditions Sandstorms  7037\n",
       "3      conditions Stormy  7183\n",
       "4       conditions Sunny  6863\n",
       "5       conditions Windy  7025"
      ]
     },
     "execution_count": 132,
     "metadata": {},
     "output_type": "execute_result"
    }
   ],
   "source": [
    "entrega_condicao = df[['ID','Weatherconditions']].groupby('Weatherconditions').count()\n",
    "\n",
    "entrega_condicao.reset_index()"
   ]
  },
  {
   "cell_type": "markdown",
   "id": "421e0456-cd8a-46a7-8bf3-2e6d455bbaae",
   "metadata": {},
   "source": [
    "## Quantos entregadores únicos fizeram entregas em cada condição climática?"
   ]
  },
  {
   "cell_type": "code",
   "execution_count": 148,
   "id": "72f9bff0-05e2-4f74-93e6-fa32a6434513",
   "metadata": {},
   "outputs": [
    {
     "data": {
      "text/html": [
       "<div>\n",
       "<style scoped>\n",
       "    .dataframe tbody tr th:only-of-type {\n",
       "        vertical-align: middle;\n",
       "    }\n",
       "\n",
       "    .dataframe tbody tr th {\n",
       "        vertical-align: top;\n",
       "    }\n",
       "\n",
       "    .dataframe thead th {\n",
       "        text-align: right;\n",
       "    }\n",
       "</style>\n",
       "<table border=\"1\" class=\"dataframe\">\n",
       "  <thead>\n",
       "    <tr style=\"text-align: right;\">\n",
       "      <th></th>\n",
       "      <th>Weatherconditions</th>\n",
       "      <th>Count</th>\n",
       "    </tr>\n",
       "  </thead>\n",
       "  <tbody>\n",
       "    <tr>\n",
       "      <th>0</th>\n",
       "      <td>conditions Cloudy</td>\n",
       "      <td>1245</td>\n",
       "    </tr>\n",
       "    <tr>\n",
       "      <th>1</th>\n",
       "      <td>conditions Fog</td>\n",
       "      <td>1256</td>\n",
       "    </tr>\n",
       "    <tr>\n",
       "      <th>2</th>\n",
       "      <td>conditions Sandstorms</td>\n",
       "      <td>1238</td>\n",
       "    </tr>\n",
       "    <tr>\n",
       "      <th>3</th>\n",
       "      <td>conditions Stormy</td>\n",
       "      <td>1233</td>\n",
       "    </tr>\n",
       "    <tr>\n",
       "      <th>4</th>\n",
       "      <td>conditions Sunny</td>\n",
       "      <td>1234</td>\n",
       "    </tr>\n",
       "    <tr>\n",
       "      <th>5</th>\n",
       "      <td>conditions Windy</td>\n",
       "      <td>1228</td>\n",
       "    </tr>\n",
       "  </tbody>\n",
       "</table>\n",
       "</div>"
      ],
      "text/plain": [
       "       Weatherconditions  Count\n",
       "0      conditions Cloudy   1245\n",
       "1         conditions Fog   1256\n",
       "2  conditions Sandstorms   1238\n",
       "3      conditions Stormy   1233\n",
       "4       conditions Sunny   1234\n",
       "5       conditions Windy   1228"
      ]
     },
     "execution_count": 148,
     "metadata": {},
     "output_type": "execute_result"
    }
   ],
   "source": [
    "id_condicao = (\n",
    "    df.groupby('Weatherconditions')['Delivery_person_ID']\n",
    "    .nunique()\n",
    "    .reset_index()\n",
    "    .rename(columns={'Delivery_person_ID': 'Count'}))\n",
    "\n",
    "id_condicao"
   ]
  },
  {
   "cell_type": "markdown",
   "id": "056a2f45-ea57-4a3f-aa0c-44fbad6b7204",
   "metadata": {},
   "source": [
    "## Quantas entregas foram feitas em cada tipo de densidade de trânsito? \n"
   ]
  },
  {
   "cell_type": "code",
   "execution_count": 155,
   "id": "66bbb017-b1f4-468e-bb3e-25c8d543aab7",
   "metadata": {},
   "outputs": [
    {
     "data": {
      "text/html": [
       "<div>\n",
       "<style scoped>\n",
       "    .dataframe tbody tr th:only-of-type {\n",
       "        vertical-align: middle;\n",
       "    }\n",
       "\n",
       "    .dataframe tbody tr th {\n",
       "        vertical-align: top;\n",
       "    }\n",
       "\n",
       "    .dataframe thead th {\n",
       "        text-align: right;\n",
       "    }\n",
       "</style>\n",
       "<table border=\"1\" class=\"dataframe\">\n",
       "  <thead>\n",
       "    <tr style=\"text-align: right;\">\n",
       "      <th></th>\n",
       "      <th>index</th>\n",
       "      <th>Road_traffic_density</th>\n",
       "    </tr>\n",
       "  </thead>\n",
       "  <tbody>\n",
       "    <tr>\n",
       "      <th>0</th>\n",
       "      <td>Low</td>\n",
       "      <td>14491</td>\n",
       "    </tr>\n",
       "    <tr>\n",
       "      <th>1</th>\n",
       "      <td>Jam</td>\n",
       "      <td>13444</td>\n",
       "    </tr>\n",
       "    <tr>\n",
       "      <th>2</th>\n",
       "      <td>Medium</td>\n",
       "      <td>10376</td>\n",
       "    </tr>\n",
       "    <tr>\n",
       "      <th>3</th>\n",
       "      <td>High</td>\n",
       "      <td>4201</td>\n",
       "    </tr>\n",
       "  </tbody>\n",
       "</table>\n",
       "</div>"
      ],
      "text/plain": [
       "    index  Road_traffic_density\n",
       "0     Low                 14491\n",
       "1     Jam                 13444\n",
       "2  Medium                 10376\n",
       "3    High                  4201"
      ]
     },
     "execution_count": 155,
     "metadata": {},
     "output_type": "execute_result"
    }
   ],
   "source": [
    "entrega_densidade = pd.DataFrame(df['Road_traffic_density'].value_counts().reset_index())\n",
    "\n",
    "entrega_densidade"
   ]
  },
  {
   "cell_type": "markdown",
   "id": "522f6258-2501-4a61-9763-c8cfdcfa2d3c",
   "metadata": {},
   "source": [
    "## Quantos entregadores únicos fizeram entregas em cada tipo de densidade de trânsito? \n"
   ]
  },
  {
   "cell_type": "code",
   "execution_count": 150,
   "id": "b45e833a-7d38-4452-bff1-c219303e1203",
   "metadata": {},
   "outputs": [
    {
     "data": {
      "text/html": [
       "<div>\n",
       "<style scoped>\n",
       "    .dataframe tbody tr th:only-of-type {\n",
       "        vertical-align: middle;\n",
       "    }\n",
       "\n",
       "    .dataframe tbody tr th {\n",
       "        vertical-align: top;\n",
       "    }\n",
       "\n",
       "    .dataframe thead th {\n",
       "        text-align: right;\n",
       "    }\n",
       "</style>\n",
       "<table border=\"1\" class=\"dataframe\">\n",
       "  <thead>\n",
       "    <tr style=\"text-align: right;\">\n",
       "      <th></th>\n",
       "      <th>Road_traffic_density</th>\n",
       "      <th>Count</th>\n",
       "    </tr>\n",
       "  </thead>\n",
       "  <tbody>\n",
       "    <tr>\n",
       "      <th>0</th>\n",
       "      <td>High</td>\n",
       "      <td>792</td>\n",
       "    </tr>\n",
       "    <tr>\n",
       "      <th>1</th>\n",
       "      <td>Jam</td>\n",
       "      <td>1307</td>\n",
       "    </tr>\n",
       "    <tr>\n",
       "      <th>2</th>\n",
       "      <td>Low</td>\n",
       "      <td>1306</td>\n",
       "    </tr>\n",
       "    <tr>\n",
       "      <th>3</th>\n",
       "      <td>Medium</td>\n",
       "      <td>1289</td>\n",
       "    </tr>\n",
       "  </tbody>\n",
       "</table>\n",
       "</div>"
      ],
      "text/plain": [
       "  Road_traffic_density  Count\n",
       "0                 High    792\n",
       "1                  Jam   1307\n",
       "2                  Low   1306\n",
       "3               Medium   1289"
      ]
     },
     "execution_count": 150,
     "metadata": {},
     "output_type": "execute_result"
    }
   ],
   "source": [
    "id_densidade = (df.groupby('Road_traffic_density')['Delivery_person_ID']\n",
    "                .nunique()\n",
    "                .reset_index()\n",
    "                .rename(columns={'Delivery_person_ID': 'Count'}))\n",
    "id_densidade"
   ]
  },
  {
   "cell_type": "markdown",
   "id": "a241ba9c-f142-4edf-a220-943d3f3fbfde",
   "metadata": {},
   "source": [
    "## Quantas cidades únicas existem na base? Quais são os seus nomes? "
   ]
  },
  {
   "cell_type": "code",
   "execution_count": 159,
   "id": "9103dabf-6ead-481f-a28c-c0d99cc24698",
   "metadata": {},
   "outputs": [
    {
     "name": "stdout",
     "output_type": "stream",
     "text": [
      "A quantidade de cidades é de:3\n",
      "São elas:['Urban', 'Metropolitian', 'Semi-Urban']\n"
     ]
    }
   ],
   "source": [
    "print(f'A quantidade de cidades é de:{len(df[\"City\"].unique())}')\n",
    "print(f'São elas:{list(df[\"City\"].unique())}')\n"
   ]
  },
  {
   "cell_type": "markdown",
   "id": "83e06621-99f2-4155-8628-1bd9663a8a9a",
   "metadata": {},
   "source": [
    "## Quais os tipos de veículos únicos existem na base? "
   ]
  },
  {
   "cell_type": "code",
   "execution_count": 161,
   "id": "0cd4f476-4af1-4907-a856-1d06b4723d75",
   "metadata": {},
   "outputs": [
    {
     "name": "stdout",
     "output_type": "stream",
     "text": [
      "Os tipo de veículo únicos são: ['motorcycle' 'scooter' 'electric_scooter']\n"
     ]
    }
   ],
   "source": [
    "print(f'Os tipo de veículo únicos são: {df[\"Type_of_vehicle\"].unique()}')"
   ]
  },
  {
   "cell_type": "markdown",
   "id": "c4cd07b1-6d8c-4b58-a07d-0e537d7cbd5d",
   "metadata": {},
   "source": [
    "## Qual o tipo de veículo que mais fez entregas com a condição de trânsito pesado? ( High ) \n"
   ]
  },
  {
   "cell_type": "code",
   "execution_count": 165,
   "id": "92e26069-5988-434f-b834-65a527f8a3b9",
   "metadata": {},
   "outputs": [
    {
     "name": "stdout",
     "output_type": "stream",
     "text": [
      "O tipo de veículo com mais entregas no trânsito pesado é: motorcycle\n"
     ]
    }
   ],
   "source": [
    "veiculo_high = df[df['Road_traffic_density'] == 'High']['Type_of_vehicle'].value_counts().idxmax()\n",
    "\n",
    "print(f'O tipo de veículo com mais entregas no trânsito pesado é: {veiculo_high}')"
   ]
  },
  {
   "cell_type": "markdown",
   "id": "9f272989-8e2f-436e-bee2-9fd480739858",
   "metadata": {},
   "source": [
    "## Qual o tipo de pedido mais feito durante condições climáticas de tempestade de areia? "
   ]
  },
  {
   "cell_type": "code",
   "execution_count": 166,
   "id": "57ba5ad0-2469-4048-a0af-3a84eb96f88a",
   "metadata": {},
   "outputs": [
    {
     "name": "stdout",
     "output_type": "stream",
     "text": [
      "O tipo de pedido mais feito na condição Sandstorms foi:Meal\n"
     ]
    }
   ],
   "source": [
    "pedido_condicao = df[df['Weatherconditions'] == 'conditions Sandstorms']['Type_of_order'].value_counts().idxmax()\n",
    "\n",
    "print(f'O tipo de pedido mais feito na condição Sandstorms foi:{pedido_condicao}')"
   ]
  },
  {
   "cell_type": "markdown",
   "id": "e883dc8e-7331-47d8-a028-b960c907ca3b",
   "metadata": {},
   "source": [
    "## Qual a cidade com o maior número de pedidos de Bebidas (Drinks) feito em Scooter? \n"
   ]
  },
  {
   "cell_type": "code",
   "execution_count": 174,
   "id": "9a608bb3-0686-488f-ae5b-adbc3738617b",
   "metadata": {},
   "outputs": [
    {
     "data": {
      "text/plain": [
       "'Metropolitian'"
      ]
     },
     "execution_count": 174,
     "metadata": {},
     "output_type": "execute_result"
    }
   ],
   "source": [
    "cidade_drink = df[(df['Type_of_order'] == 'Drinks') & (df['Type_of_vehicle'] == 'scooter')]['City'].value_counts().idxmax()\n",
    "\n",
    "cidade_drink"
   ]
  },
  {
   "cell_type": "markdown",
   "id": "c41c6919-39ef-46c8-8af5-a516b4c11158",
   "metadata": {},
   "source": [
    "## Qual o nome da cidade com o (os) entregador mais velho? E o nome da cidade com o (os) entregadores mais novos? \n",
    "\n"
   ]
  },
  {
   "cell_type": "code",
   "execution_count": 175,
   "id": "d44185a0-d20a-4101-a1c1-8d50ae4be10b",
   "metadata": {},
   "outputs": [
    {
     "name": "stdout",
     "output_type": "stream",
     "text": [
      "O nome da cidade com o entregador mais velhor é: Metropolitian, já com o entregador mais novo é: Metropolitian\n"
     ]
    }
   ],
   "source": [
    "cidade_older = df.groupby('City')['Delivery_person_Age'].max().idxmax()\n",
    "\n",
    "cidade_youngest = df.groupby('City')['Delivery_person_Age'].min().idxmin()\n",
    "\n",
    "print(f'O nome da cidade com o entregador mais velhor é: {cidade_older}, já com o entregador mais novo é: {cidade_youngest}')"
   ]
  },
  {
   "cell_type": "markdown",
   "id": "56375b6a-de81-4b2b-a389-4cb8d2a3b3ff",
   "metadata": {},
   "source": [
    "## Quantas entregas foram feitas durante o Festival? \n"
   ]
  },
  {
   "cell_type": "code",
   "execution_count": 179,
   "id": "9e800b14-ce38-499b-a0dc-ba069ab6c7c7",
   "metadata": {},
   "outputs": [
    {
     "name": "stdout",
     "output_type": "stream",
     "text": [
      "A quantidade de entregas feitas durante o festival é: 839\n"
     ]
    }
   ],
   "source": [
    "print(f\"A quantidade de entregas feitas durante o festival é: {len(list(df.loc[df['Festival'] == 'Yes ', 'ID']))}\")"
   ]
  },
  {
   "cell_type": "code",
   "execution_count": 180,
   "id": "1773066d-9d0a-4e3e-b7f5-2d2ae0519060",
   "metadata": {},
   "outputs": [
    {
     "data": {
      "text/plain": [
       "3"
      ]
     },
     "execution_count": 180,
     "metadata": {},
     "output_type": "execute_result"
    }
   ],
   "source": [
    "len(df.loc[df['Festival'] == 'Yes ', 'City'].unique())"
   ]
  },
  {
   "cell_type": "markdown",
   "id": "f502278b-f38b-45ab-b5a1-bd0722fc2df2",
   "metadata": {},
   "source": [
    "## Quantas entregas foram feitas durante o Festival na cidade chamada Urban (\"Urban\") "
   ]
  },
  {
   "cell_type": "code",
   "execution_count": 190,
   "id": "2d97622e-07c8-42ee-8e54-bf6de0fec1be",
   "metadata": {},
   "outputs": [
    {
     "name": "stdout",
     "output_type": "stream",
     "text": [
      "A quantidade de entregas feutas durante o Festival é 0\n"
     ]
    }
   ],
   "source": [
    "print(f\"A quantidade de entregas feutas durante o Festival é {len(df.loc[(df['Festival'] == 'Yes ') & (df['City'] == 'Urban '), 'ID'])}\")"
   ]
  },
  {
   "cell_type": "code",
   "execution_count": null,
   "id": "e9c310cb-d5d5-4429-8821-63d4ab2ba0da",
   "metadata": {},
   "outputs": [],
   "source": []
  }
 ],
 "metadata": {
  "kernelspec": {
   "display_name": "Python 3 (ipykernel)",
   "language": "python",
   "name": "python3"
  },
  "language_info": {
   "codemirror_mode": {
    "name": "ipython",
    "version": 3
   },
   "file_extension": ".py",
   "mimetype": "text/x-python",
   "name": "python",
   "nbconvert_exporter": "python",
   "pygments_lexer": "ipython3",
   "version": "3.10.9"
  }
 },
 "nbformat": 4,
 "nbformat_minor": 5
}
